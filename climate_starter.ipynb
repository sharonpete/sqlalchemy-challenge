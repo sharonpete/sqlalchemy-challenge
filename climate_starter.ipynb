{
 "cells": [
  {
   "cell_type": "code",
   "execution_count": 1,
   "metadata": {},
   "outputs": [],
   "source": [
    "%matplotlib inline\n",
    "from matplotlib import style\n",
    "style.use('fivethirtyeight')\n",
    "import matplotlib.pyplot as plt"
   ]
  },
  {
   "cell_type": "code",
   "execution_count": 2,
   "metadata": {},
   "outputs": [],
   "source": [
    "import numpy as np\n",
    "import pandas as pd\n",
    "import datetime as dt"
   ]
  },
  {
   "cell_type": "markdown",
   "metadata": {},
   "source": [
    "# Reflect Tables into SQLAlchemy ORM"
   ]
  },
  {
   "cell_type": "code",
   "execution_count": 3,
   "metadata": {},
   "outputs": [],
   "source": [
    "# Python SQL toolkit and Object Relational Mapper\n",
    "import sqlalchemy\n",
    "from sqlalchemy.ext.automap import automap_base\n",
    "from sqlalchemy.orm import Session\n",
    "from sqlalchemy import create_engine, func"
   ]
  },
  {
   "cell_type": "code",
   "execution_count": 4,
   "metadata": {},
   "outputs": [],
   "source": [
    "# create engine to hawaii.sqlite\n",
    "engine = create_engine(\"sqlite:///Resources/hawaii.sqlite\")"
   ]
  },
  {
   "cell_type": "code",
   "execution_count": 5,
   "metadata": {},
   "outputs": [],
   "source": [
    "# reflect an existing database into a new model\n",
    "Base = automap_base()\n",
    "\n",
    "# reflect the tables\n",
    "Base.prepare(engine, reflect=True)\n",
    "\n"
   ]
  },
  {
   "cell_type": "code",
   "execution_count": 6,
   "metadata": {},
   "outputs": [
    {
     "data": {
      "text/plain": [
       "['measurement', 'station']"
      ]
     },
     "execution_count": 6,
     "metadata": {},
     "output_type": "execute_result"
    }
   ],
   "source": [
    "# View all of the classes that automap found\n",
    "Base.classes.keys()"
   ]
  },
  {
   "cell_type": "code",
   "execution_count": 7,
   "metadata": {},
   "outputs": [],
   "source": [
    "# Save references to each table\n",
    "Station = Base.classes.station\n",
    "Measurement = Base.classes.measurement"
   ]
  },
  {
   "cell_type": "code",
   "execution_count": 8,
   "metadata": {},
   "outputs": [],
   "source": [
    "# Create our session (link) from Python to the DB\n",
    "session = Session(engine)"
   ]
  },
  {
   "cell_type": "code",
   "execution_count": 9,
   "metadata": {},
   "outputs": [
    {
     "data": {
      "text/plain": [
       "{'_sa_instance_state': <sqlalchemy.orm.state.InstanceState at 0x1d6d5439c88>,\n",
       " 'elevation': 3.0,\n",
       " 'longitude': -157.8168,\n",
       " 'name': 'WAIKIKI 717.2, HI US',\n",
       " 'id': 1,\n",
       " 'latitude': 21.2716,\n",
       " 'station': 'USC00519397'}"
      ]
     },
     "execution_count": 9,
     "metadata": {},
     "output_type": "execute_result"
    }
   ],
   "source": [
    "first_row_station = session.query(Station).first()\n",
    "first_row_station.__dict__"
   ]
  },
  {
   "cell_type": "code",
   "execution_count": 10,
   "metadata": {},
   "outputs": [
    {
     "data": {
      "text/plain": [
       "['measurement', 'station']"
      ]
     },
     "execution_count": 10,
     "metadata": {},
     "output_type": "execute_result"
    }
   ],
   "source": [
    "from sqlalchemy import inspect\n",
    "from datetime import datetime\n",
    "inspector = inspect(engine)\n",
    "inspector.get_table_names()"
   ]
  },
  {
   "cell_type": "code",
   "execution_count": 11,
   "metadata": {},
   "outputs": [
    {
     "name": "stdout",
     "output_type": "stream",
     "text": [
      "id INTEGER\n",
      "station TEXT\n",
      "date TEXT\n",
      "prcp FLOAT\n",
      "tobs FLOAT\n"
     ]
    }
   ],
   "source": [
    "columns = inspector.get_columns('measurement')\n",
    "for column in columns:\n",
    "    print(column['name'], column['type'])"
   ]
  },
  {
   "cell_type": "code",
   "execution_count": 12,
   "metadata": {},
   "outputs": [
    {
     "data": {
      "text/plain": [
       "{'_sa_instance_state': <sqlalchemy.orm.state.InstanceState at 0x1d6d5474c88>,\n",
       " 'date': '2010-01-01',\n",
       " 'prcp': 0.08,\n",
       " 'id': 1,\n",
       " 'station': 'USC00519397',\n",
       " 'tobs': 65.0}"
      ]
     },
     "execution_count": 12,
     "metadata": {},
     "output_type": "execute_result"
    }
   ],
   "source": [
    "first_row_measurement = session.query(Measurement).first()\n",
    "first_row_measurement.__dict__"
   ]
  },
  {
   "cell_type": "code",
   "execution_count": 13,
   "metadata": {},
   "outputs": [
    {
     "name": "stdout",
     "output_type": "stream",
     "text": [
      "2010-01-01 2010-01-01\n"
     ]
    }
   ],
   "source": [
    "date_string = first_row_measurement.date\n",
    "date_format = '%Y-%m-%d'\n",
    "new_date = datetime.strptime(date_string, date_format).strftime(\"%Y-%m-%d\")\n",
    "print(date_string,new_date)"
   ]
  },
  {
   "cell_type": "markdown",
   "metadata": {},
   "source": [
    "# Exploratory Precipitation Analysis"
   ]
  },
  {
   "cell_type": "code",
   "execution_count": null,
   "metadata": {},
   "outputs": [],
   "source": []
  },
  {
   "cell_type": "code",
   "execution_count": 15,
   "metadata": {},
   "outputs": [
    {
     "data": {
      "text/plain": [
       "'2017-08-23'"
      ]
     },
     "execution_count": 15,
     "metadata": {},
     "output_type": "execute_result"
    }
   ],
   "source": [
    "# Find the most recent date in the data set.\n",
    "most_recent = session.query(func.max(Measurement.date)).first() [0]                                                              \n",
    "\n",
    "\n",
    "most_recent"
   ]
  },
  {
   "cell_type": "code",
   "execution_count": 16,
   "metadata": {},
   "outputs": [
    {
     "name": "stdout",
     "output_type": "stream",
     "text": [
      "<sqlalchemy.ext.automap.measurement object at 0x000001D6D5474160>\n",
      "2017-08-23\n",
      "0.0\n",
      "2724\n",
      "USC00519397\n",
      "81.0\n"
     ]
    }
   ],
   "source": [
    "# Design a query to retrieve the last 12 months of precipitation data and plot the results. \n",
    "# Starting from the most recent data point in the database. \n",
    "\n",
    "# Calculate the date one year from the last date in data set.\n",
    "#last_12 = most_recent - datetime.timedelta(years = 1)\n",
    "#last_12\n",
    "\n",
    "# Perform a query to retrieve the data and precipitation scores\n",
    "last_12_months = session.query(Measurement).filter(Measurement.date > '2016-08-23').order_by(Measurement.date.desc()).all()\n",
    "print(last_12_months[0])\n",
    "print(last_12_months[0].date)\n",
    "print(last_12_months[0].prcp)\n",
    "print(last_12_months[0].id)\n",
    "print(last_12_months[0].station)\n",
    "print(last_12_months[0].tobs)"
   ]
  },
  {
   "cell_type": "code",
   "execution_count": 17,
   "metadata": {},
   "outputs": [],
   "source": [
    "results = session.query(Measurement.date, Measurement.prcp).filter(Measurement.date > '2016-08-23').all()\n",
    "\n"
   ]
  },
  {
   "cell_type": "code",
   "execution_count": null,
   "metadata": {},
   "outputs": [],
   "source": []
  },
  {
   "cell_type": "code",
   "execution_count": 18,
   "metadata": {},
   "outputs": [
    {
     "data": {
      "text/html": [
       "<div>\n",
       "<style scoped>\n",
       "    .dataframe tbody tr th:only-of-type {\n",
       "        vertical-align: middle;\n",
       "    }\n",
       "\n",
       "    .dataframe tbody tr th {\n",
       "        vertical-align: top;\n",
       "    }\n",
       "\n",
       "    .dataframe thead th {\n",
       "        text-align: right;\n",
       "    }\n",
       "</style>\n",
       "<table border=\"1\" class=\"dataframe\">\n",
       "  <thead>\n",
       "    <tr style=\"text-align: right;\">\n",
       "      <th></th>\n",
       "      <th>prcp</th>\n",
       "    </tr>\n",
       "    <tr>\n",
       "      <th>date</th>\n",
       "      <th></th>\n",
       "    </tr>\n",
       "  </thead>\n",
       "  <tbody>\n",
       "    <tr>\n",
       "      <th>2016-08-24</th>\n",
       "      <td>0.08</td>\n",
       "    </tr>\n",
       "    <tr>\n",
       "      <th>2016-08-25</th>\n",
       "      <td>0.08</td>\n",
       "    </tr>\n",
       "    <tr>\n",
       "      <th>2016-08-26</th>\n",
       "      <td>0.00</td>\n",
       "    </tr>\n",
       "    <tr>\n",
       "      <th>2016-08-27</th>\n",
       "      <td>0.00</td>\n",
       "    </tr>\n",
       "    <tr>\n",
       "      <th>2016-08-28</th>\n",
       "      <td>0.01</td>\n",
       "    </tr>\n",
       "    <tr>\n",
       "      <th>...</th>\n",
       "      <td>...</td>\n",
       "    </tr>\n",
       "    <tr>\n",
       "      <th>2017-08-19</th>\n",
       "      <td>0.09</td>\n",
       "    </tr>\n",
       "    <tr>\n",
       "      <th>2017-08-20</th>\n",
       "      <td>NaN</td>\n",
       "    </tr>\n",
       "    <tr>\n",
       "      <th>2017-08-21</th>\n",
       "      <td>0.56</td>\n",
       "    </tr>\n",
       "    <tr>\n",
       "      <th>2017-08-22</th>\n",
       "      <td>0.50</td>\n",
       "    </tr>\n",
       "    <tr>\n",
       "      <th>2017-08-23</th>\n",
       "      <td>0.45</td>\n",
       "    </tr>\n",
       "  </tbody>\n",
       "</table>\n",
       "<p>2223 rows × 1 columns</p>\n",
       "</div>"
      ],
      "text/plain": [
       "            prcp\n",
       "date            \n",
       "2016-08-24  0.08\n",
       "2016-08-25  0.08\n",
       "2016-08-26  0.00\n",
       "2016-08-27  0.00\n",
       "2016-08-28  0.01\n",
       "...          ...\n",
       "2017-08-19  0.09\n",
       "2017-08-20   NaN\n",
       "2017-08-21  0.56\n",
       "2017-08-22  0.50\n",
       "2017-08-23  0.45\n",
       "\n",
       "[2223 rows x 1 columns]"
      ]
     },
     "execution_count": 18,
     "metadata": {},
     "output_type": "execute_result"
    }
   ],
   "source": [
    "# Save the query results as a Pandas DataFrame and set the index to the date column\n",
    "meas_df = pd.DataFrame(results, columns=['date', 'prcp'])\n",
    "meas_df.set_index('date', inplace=True)\n",
    "meas_df.head()\n",
    "meas_df"
   ]
  },
  {
   "cell_type": "code",
   "execution_count": 19,
   "metadata": {},
   "outputs": [
    {
     "data": {
      "text/plain": [
       "date\n",
       "2016-08-24    0.08\n",
       "2016-08-25    0.08\n",
       "2016-08-26    0.00\n",
       "2016-08-27    0.00\n",
       "2016-08-28    0.01\n",
       "              ... \n",
       "2017-08-19    0.09\n",
       "2017-08-20     NaN\n",
       "2017-08-21    0.56\n",
       "2017-08-22    0.50\n",
       "2017-08-23    0.45\n",
       "Name: prcp, Length: 2223, dtype: float64"
      ]
     },
     "execution_count": 19,
     "metadata": {},
     "output_type": "execute_result"
    }
   ],
   "source": [
    "prcp = meas_df['prcp']\n",
    "prcp"
   ]
  },
  {
   "cell_type": "code",
   "execution_count": 20,
   "metadata": {},
   "outputs": [
    {
     "data": {
      "text/plain": [
       "Index(['2016-08-24', '2016-08-25', '2016-08-26', '2016-08-27', '2016-08-28',\n",
       "       '2016-08-29', '2016-08-30', '2016-08-31', '2016-09-01', '2016-09-02',\n",
       "       ...\n",
       "       '2017-08-14', '2017-08-15', '2017-08-16', '2017-08-17', '2017-08-18',\n",
       "       '2017-08-19', '2017-08-20', '2017-08-21', '2017-08-22', '2017-08-23'],\n",
       "      dtype='object', name='date', length=2223)"
      ]
     },
     "execution_count": 20,
     "metadata": {},
     "output_type": "execute_result"
    }
   ],
   "source": [
    "meas_df.index\n"
   ]
  },
  {
   "cell_type": "code",
   "execution_count": 21,
   "metadata": {},
   "outputs": [
    {
     "data": {
      "text/html": [
       "<div>\n",
       "<style scoped>\n",
       "    .dataframe tbody tr th:only-of-type {\n",
       "        vertical-align: middle;\n",
       "    }\n",
       "\n",
       "    .dataframe tbody tr th {\n",
       "        vertical-align: top;\n",
       "    }\n",
       "\n",
       "    .dataframe thead th {\n",
       "        text-align: right;\n",
       "    }\n",
       "</style>\n",
       "<table border=\"1\" class=\"dataframe\">\n",
       "  <thead>\n",
       "    <tr style=\"text-align: right;\">\n",
       "      <th></th>\n",
       "      <th>prcp</th>\n",
       "    </tr>\n",
       "    <tr>\n",
       "      <th>date</th>\n",
       "      <th></th>\n",
       "    </tr>\n",
       "  </thead>\n",
       "  <tbody>\n",
       "    <tr>\n",
       "      <th>2016-08-24</th>\n",
       "      <td>0.08</td>\n",
       "    </tr>\n",
       "    <tr>\n",
       "      <th>2016-08-25</th>\n",
       "      <td>0.08</td>\n",
       "    </tr>\n",
       "    <tr>\n",
       "      <th>2016-08-26</th>\n",
       "      <td>0.00</td>\n",
       "    </tr>\n",
       "    <tr>\n",
       "      <th>2016-08-27</th>\n",
       "      <td>0.00</td>\n",
       "    </tr>\n",
       "    <tr>\n",
       "      <th>2016-08-28</th>\n",
       "      <td>0.01</td>\n",
       "    </tr>\n",
       "    <tr>\n",
       "      <th>...</th>\n",
       "      <td>...</td>\n",
       "    </tr>\n",
       "    <tr>\n",
       "      <th>2017-08-17</th>\n",
       "      <td>0.13</td>\n",
       "    </tr>\n",
       "    <tr>\n",
       "      <th>2017-08-19</th>\n",
       "      <td>0.09</td>\n",
       "    </tr>\n",
       "    <tr>\n",
       "      <th>2017-08-21</th>\n",
       "      <td>0.56</td>\n",
       "    </tr>\n",
       "    <tr>\n",
       "      <th>2017-08-22</th>\n",
       "      <td>0.50</td>\n",
       "    </tr>\n",
       "    <tr>\n",
       "      <th>2017-08-23</th>\n",
       "      <td>0.45</td>\n",
       "    </tr>\n",
       "  </tbody>\n",
       "</table>\n",
       "<p>2015 rows × 1 columns</p>\n",
       "</div>"
      ],
      "text/plain": [
       "            prcp\n",
       "date            \n",
       "2016-08-24  0.08\n",
       "2016-08-25  0.08\n",
       "2016-08-26  0.00\n",
       "2016-08-27  0.00\n",
       "2016-08-28  0.01\n",
       "...          ...\n",
       "2017-08-17  0.13\n",
       "2017-08-19  0.09\n",
       "2017-08-21  0.56\n",
       "2017-08-22  0.50\n",
       "2017-08-23  0.45\n",
       "\n",
       "[2015 rows x 1 columns]"
      ]
     },
     "execution_count": 21,
     "metadata": {},
     "output_type": "execute_result"
    }
   ],
   "source": [
    "meas_df = meas_df.dropna()\n",
    "meas_df"
   ]
  },
  {
   "cell_type": "code",
   "execution_count": 22,
   "metadata": {},
   "outputs": [],
   "source": [
    "# Sort the dataframe by date -- this was done with the query ORDER BY"
   ]
  },
  {
   "cell_type": "code",
   "execution_count": 42,
   "metadata": {},
   "outputs": [
    {
     "data": {
      "text/plain": [
       "Index(['2016-08-24', '2016-08-25', '2016-08-26', '2016-08-27', '2016-08-28',\n",
       "       '2016-08-29', '2016-08-30', '2016-08-31', '2016-09-01', '2016-09-02',\n",
       "       ...\n",
       "       '2017-08-10', '2017-08-12', '2017-08-14', '2017-08-15', '2017-08-16',\n",
       "       '2017-08-17', '2017-08-19', '2017-08-21', '2017-08-22', '2017-08-23'],\n",
       "      dtype='object', name='date', length=2015)"
      ]
     },
     "execution_count": 42,
     "metadata": {},
     "output_type": "execute_result"
    }
   ],
   "source": [
    "# Use Pandas Plotting with Matplotlib to plot the data\n",
    "\n",
    "x_values = meas_df.index\n",
    "y_values = meas_df['prcp']\n",
    "x_values"
   ]
  },
  {
   "cell_type": "code",
   "execution_count": 43,
   "metadata": {},
   "outputs": [
    {
     "data": {
      "image/png": "[encoded data removed]",
      "text/plain": [
       "<Figure size 432x288 with 1 Axes>"
      ]
     },
     "metadata": {},
     "output_type": "display_data"
    }
   ],
   "source": [
    "plt.scatter(x_values, y_values, marker='o', facecolor='blue', alpha=0.5)\n",
    "\n",
    "plt.ylabel('Inches')\n",
    "plt.xlabel('Date', rotation=0.30)\n",
    "\n",
    "plt.show()"
   ]
  },
  {
   "cell_type": "code",
   "execution_count": 25,
   "metadata": {},
   "outputs": [
    {
     "data": {
      "text/html": [
       "<div>\n",
       "<style scoped>\n",
       "    .dataframe tbody tr th:only-of-type {\n",
       "        vertical-align: middle;\n",
       "    }\n",
       "\n",
       "    .dataframe tbody tr th {\n",
       "        vertical-align: top;\n",
       "    }\n",
       "\n",
       "    .dataframe thead th {\n",
       "        text-align: right;\n",
       "    }\n",
       "</style>\n",
       "<table border=\"1\" class=\"dataframe\">\n",
       "  <thead>\n",
       "    <tr style=\"text-align: right;\">\n",
       "      <th></th>\n",
       "      <th>prcp</th>\n",
       "    </tr>\n",
       "  </thead>\n",
       "  <tbody>\n",
       "    <tr>\n",
       "      <th>count</th>\n",
       "      <td>2015.000000</td>\n",
       "    </tr>\n",
       "    <tr>\n",
       "      <th>mean</th>\n",
       "      <td>0.176462</td>\n",
       "    </tr>\n",
       "    <tr>\n",
       "      <th>std</th>\n",
       "      <td>0.460288</td>\n",
       "    </tr>\n",
       "    <tr>\n",
       "      <th>min</th>\n",
       "      <td>0.000000</td>\n",
       "    </tr>\n",
       "    <tr>\n",
       "      <th>25%</th>\n",
       "      <td>0.000000</td>\n",
       "    </tr>\n",
       "    <tr>\n",
       "      <th>50%</th>\n",
       "      <td>0.020000</td>\n",
       "    </tr>\n",
       "    <tr>\n",
       "      <th>75%</th>\n",
       "      <td>0.130000</td>\n",
       "    </tr>\n",
       "    <tr>\n",
       "      <th>max</th>\n",
       "      <td>6.700000</td>\n",
       "    </tr>\n",
       "  </tbody>\n",
       "</table>\n",
       "</div>"
      ],
      "text/plain": [
       "              prcp\n",
       "count  2015.000000\n",
       "mean      0.176462\n",
       "std       0.460288\n",
       "min       0.000000\n",
       "25%       0.000000\n",
       "50%       0.020000\n",
       "75%       0.130000\n",
       "max       6.700000"
      ]
     },
     "execution_count": 25,
     "metadata": {},
     "output_type": "execute_result"
    }
   ],
   "source": [
    "# Use Pandas to calculate the summary statistics for the precipitation data\n",
    "meas_df.describe()\n"
   ]
  },
  {
   "cell_type": "markdown",
   "metadata": {},
   "source": [
    "# Exploratory Station Analysis"
   ]
  },
  {
   "cell_type": "code",
   "execution_count": 26,
   "metadata": {},
   "outputs": [
    {
     "name": "stdout",
     "output_type": "stream",
     "text": [
      "id INTEGER\n",
      "station TEXT\n",
      "name TEXT\n",
      "latitude FLOAT\n",
      "longitude FLOAT\n",
      "elevation FLOAT\n"
     ]
    }
   ],
   "source": [
    "columns = inspector.get_columns('station')\n",
    "for column in columns:\n",
    "    print(column['name'], column['type'])"
   ]
  },
  {
   "cell_type": "code",
   "execution_count": 27,
   "metadata": {},
   "outputs": [
    {
     "data": {
      "text/plain": [
       "[(1, 'WAIKIKI 717.2, HI US', 9)]"
      ]
     },
     "execution_count": 27,
     "metadata": {},
     "output_type": "execute_result"
    }
   ],
   "source": [
    "results = session.query(Station.id, Station.name, func.count(Station.id)).all()\n",
    "results"
   ]
  },
  {
   "cell_type": "code",
   "execution_count": 28,
   "metadata": {},
   "outputs": [
    {
     "data": {
      "text/plain": [
       "[(9)]"
      ]
     },
     "execution_count": 28,
     "metadata": {},
     "output_type": "execute_result"
    }
   ],
   "source": [
    "# Design a query to calculate the total number stations in the dataset\n",
    "from sqlalchemy import distinct  #add to head\n",
    "\n",
    "results = session.query(func.count(distinct(Station.station))).all()\n",
    "results"
   ]
  },
  {
   "cell_type": "code",
   "execution_count": 29,
   "metadata": {},
   "outputs": [
    {
     "data": {
      "text/plain": [
       "[(1, 'USC00519397', 'WAIKIKI 717.2, HI US'),\n",
       " (2, 'USC00513117', 'KANEOHE 838.1, HI US'),\n",
       " (3, 'USC00514830', 'KUALOA RANCH HEADQUARTERS 886.9, HI US'),\n",
       " (4, 'USC00517948', 'PEARL CITY, HI US'),\n",
       " (5, 'USC00518838', 'UPPER WAHIAWA 874.3, HI US'),\n",
       " (6, 'USC00519523', 'WAIMANALO EXPERIMENTAL FARM, HI US'),\n",
       " (7, 'USC00519281', 'WAIHEE 837.5, HI US'),\n",
       " (8, 'USC00511918', 'HONOLULU OBSERVATORY 702.2, HI US'),\n",
       " (9, 'USC00516128', 'MANOA LYON ARBO 785.2, HI US')]"
      ]
     },
     "execution_count": 29,
     "metadata": {},
     "output_type": "execute_result"
    }
   ],
   "source": [
    "results = session.query(Station.id, Station.station, Station.name).all()\n",
    "results     #a list of tuples"
   ]
  },
  {
   "cell_type": "code",
   "execution_count": 30,
   "metadata": {},
   "outputs": [
    {
     "name": "stdout",
     "output_type": "stream",
     "text": [
      "[('USC00519397', 98)]\n",
      "[('USC00513117', 149)]\n",
      "[('USC00514830', 115)]\n",
      "[('USC00517948', 51)]\n",
      "[('USC00518838', 76)]\n",
      "[('USC00519523', 140)]\n",
      "[('USC00519281', 194)]\n",
      "[('USC00511918', 77)]\n",
      "[('USC00516128', 260)]\n"
     ]
    },
    {
     "data": {
      "text/html": [
       "<div>\n",
       "<style scoped>\n",
       "    .dataframe tbody tr th:only-of-type {\n",
       "        vertical-align: middle;\n",
       "    }\n",
       "\n",
       "    .dataframe tbody tr th {\n",
       "        vertical-align: top;\n",
       "    }\n",
       "\n",
       "    .dataframe thead th {\n",
       "        text-align: right;\n",
       "    }\n",
       "</style>\n",
       "<table border=\"1\" class=\"dataframe\">\n",
       "  <thead>\n",
       "    <tr style=\"text-align: right;\">\n",
       "      <th></th>\n",
       "      <th>station</th>\n",
       "      <th>measurement_count</th>\n",
       "    </tr>\n",
       "  </thead>\n",
       "  <tbody>\n",
       "    <tr>\n",
       "      <th>8</th>\n",
       "      <td>USC00516128</td>\n",
       "      <td>260</td>\n",
       "    </tr>\n",
       "    <tr>\n",
       "      <th>6</th>\n",
       "      <td>USC00519281</td>\n",
       "      <td>194</td>\n",
       "    </tr>\n",
       "    <tr>\n",
       "      <th>1</th>\n",
       "      <td>USC00513117</td>\n",
       "      <td>149</td>\n",
       "    </tr>\n",
       "    <tr>\n",
       "      <th>5</th>\n",
       "      <td>USC00519523</td>\n",
       "      <td>140</td>\n",
       "    </tr>\n",
       "    <tr>\n",
       "      <th>2</th>\n",
       "      <td>USC00514830</td>\n",
       "      <td>115</td>\n",
       "    </tr>\n",
       "    <tr>\n",
       "      <th>0</th>\n",
       "      <td>USC00519397</td>\n",
       "      <td>98</td>\n",
       "    </tr>\n",
       "    <tr>\n",
       "      <th>7</th>\n",
       "      <td>USC00511918</td>\n",
       "      <td>77</td>\n",
       "    </tr>\n",
       "    <tr>\n",
       "      <th>4</th>\n",
       "      <td>USC00518838</td>\n",
       "      <td>76</td>\n",
       "    </tr>\n",
       "    <tr>\n",
       "      <th>3</th>\n",
       "      <td>USC00517948</td>\n",
       "      <td>51</td>\n",
       "    </tr>\n",
       "  </tbody>\n",
       "</table>\n",
       "</div>"
      ],
      "text/plain": [
       "       station  measurement_count\n",
       "8  USC00516128                260\n",
       "6  USC00519281                194\n",
       "1  USC00513117                149\n",
       "5  USC00519523                140\n",
       "2  USC00514830                115\n",
       "0  USC00519397                 98\n",
       "7  USC00511918                 77\n",
       "4  USC00518838                 76\n",
       "3  USC00517948                 51"
      ]
     },
     "execution_count": 30,
     "metadata": {},
     "output_type": "execute_result"
    }
   ],
   "source": [
    "# Design a query to find the most active stations (i.e. what stations have the most rows?)\n",
    "# List the stations and the counts in descending order.\n",
    "\n",
    "count_by_station = []   #gonna create a list of tuples\n",
    "for row in results:\n",
    "    #print(row[1])\n",
    "    measurements = session.query(Measurement.station, func.count(distinct(Measurement.prcp))).filter(Measurement.station == row[1]).all()\n",
    "    print(measurements)\n",
    "    count_by_station.append(measurements[0])\n",
    " \n",
    "#count_by_station\n",
    "station_count_df = pd.DataFrame(count_by_station, columns = ['station', 'measurement_count'])\n",
    "station_count_sorted_df = station_count_df.sort_values('measurement_count', ascending=False)\n",
    "station_count_sorted_df"
   ]
  },
  {
   "cell_type": "code",
   "execution_count": 31,
   "metadata": {},
   "outputs": [
    {
     "name": "stdout",
     "output_type": "stream",
     "text": [
      "0.0\n"
     ]
    }
   ],
   "source": [
    "# Using the most active station id from the previous query, calculate the lowest, highest, and average temperature.\n",
    "# Lowest precipitation for most active station is 'USC00516128'\n",
    "results = session.query(func.min(Measurement.prcp)).filter(Measurement.station == 'USC00516128').all()\n",
    "print(results[0][0])"
   ]
  },
  {
   "cell_type": "code",
   "execution_count": 32,
   "metadata": {},
   "outputs": [
    {
     "name": "stdout",
     "output_type": "stream",
     "text": [
      "8.06\n"
     ]
    }
   ],
   "source": [
    "# Highest precipitation for most active station 'USC00516128'\n",
    "results = session.query(func.max(Measurement.prcp)).filter(Measurement.station == 'USC00516128').all()\n",
    "print(results[0][0])"
   ]
  },
  {
   "cell_type": "code",
   "execution_count": 33,
   "metadata": {},
   "outputs": [
    {
     "name": "stdout",
     "output_type": "stream",
     "text": [
      "0.4299879227053122\n",
      "0.429988\n"
     ]
    }
   ],
   "source": [
    "# Average precipitation from most active station 'USC00516128'\n",
    "results = session.query(func.avg(Measurement.prcp)).filter(Measurement.station == 'USC00516128').\\\n",
    "    filter(Measurement.prcp != 'None').all()\n",
    "print(results[0][0])\n",
    "print(round(results[0][0],6))\n",
    "\n"
   ]
  },
  {
   "cell_type": "code",
   "execution_count": 45,
   "metadata": {},
   "outputs": [
    {
     "data": {
      "text/plain": [
       "[('2017-08-23', 76.0),\n",
       " ('2017-08-22', 76.0),\n",
       " ('2017-08-21', 76.0),\n",
       " ('2017-08-20', 78.0),\n",
       " ('2017-08-19', 71.0),\n",
       " ('2017-08-18', 76.0),\n",
       " ('2017-08-17', 72.0),\n",
       " ('2017-08-16', 71.0),\n",
       " ('2017-08-15', 70.0),\n",
       " ('2017-08-14', 79.0),\n",
       " ('2017-08-13', 80.0),\n",
       " ('2017-08-12', 74.0),\n",
       " ('2017-08-11', 72.0),\n",
       " ('2017-08-10', 75.0),\n",
       " ('2017-08-09', 71.0),\n",
       " ('2017-08-08', 74.0),\n",
       " ('2017-08-07', 78.0),\n",
       " ('2017-08-06', 79.0),\n",
       " ('2017-08-05', 77.0),\n",
       " ('2017-08-03', 76.0),\n",
       " ('2017-08-02', 80.0),\n",
       " ('2017-08-01', 72.0),\n",
       " ('2017-07-31', 74.0),\n",
       " ('2017-07-30', 79.0),\n",
       " ('2017-07-29', 77.0),\n",
       " ('2017-07-28', 73.0),\n",
       " ('2017-07-27', 75.0),\n",
       " ('2017-07-26', 73.0),\n",
       " ('2017-07-25', 79.0),\n",
       " ('2017-07-24', 77.0),\n",
       " ('2017-07-23', 78.0),\n",
       " ('2017-07-22', 72.0),\n",
       " ('2017-07-21', 72.0),\n",
       " ('2017-07-20', 75.0),\n",
       " ('2017-07-19', 74.0),\n",
       " ('2017-07-18', 77.0),\n",
       " ('2017-07-17', 72.0),\n",
       " ('2017-07-16', 75.0),\n",
       " ('2017-07-15', 78.0),\n",
       " ('2017-07-14', 76.0),\n",
       " ('2017-07-13', 77.0),\n",
       " ('2017-07-12', 72.0),\n",
       " ('2017-07-11', 74.0),\n",
       " ('2017-07-10', 77.0),\n",
       " ('2017-07-09', 78.0),\n",
       " ('2017-07-08', 71.0),\n",
       " ('2017-07-07', 74.0),\n",
       " ('2017-07-06', 74.0),\n",
       " ('2017-07-05', 75.0),\n",
       " ('2017-07-04', 77.0),\n",
       " ('2017-07-03', 77.0),\n",
       " ('2017-07-02', 78.0),\n",
       " ('2017-07-01', 74.0),\n",
       " ('2017-06-30', 75.0),\n",
       " ('2017-06-29', 76.0),\n",
       " ('2017-06-28', 74.0),\n",
       " ('2017-06-27', 74.0),\n",
       " ('2017-06-26', 79.0),\n",
       " ('2017-06-25', 79.0),\n",
       " ('2017-06-24', 73.0),\n",
       " ('2017-06-23', 71.0),\n",
       " ('2017-06-22', 76.0),\n",
       " ('2017-06-21', 75.0),\n",
       " ('2017-06-20', 74.0),\n",
       " ('2017-06-19', 76.0),\n",
       " ('2017-06-18', 77.0),\n",
       " ('2017-06-17', 72.0),\n",
       " ('2017-06-16', 74.0),\n",
       " ('2017-06-15', 77.0),\n",
       " ('2017-06-14', 74.0),\n",
       " ('2017-06-13', 73.0),\n",
       " ('2017-06-12', 74.0),\n",
       " ('2017-06-11', 76.0),\n",
       " ('2017-06-10', 72.0),\n",
       " ('2017-06-08', 75.0),\n",
       " ('2017-06-07', 79.0),\n",
       " ('2017-06-06', 74.0),\n",
       " ('2017-06-05', 74.0),\n",
       " ('2017-06-04', 77.0),\n",
       " ('2017-06-03', 74.0),\n",
       " ('2017-06-01', 74.0),\n",
       " ('2017-05-30', 72.0),\n",
       " ('2017-05-28', 73.0),\n",
       " ('2017-05-27', 72.0),\n",
       " ('2017-05-26', 72.0),\n",
       " ('2017-05-25', 75.0),\n",
       " ('2017-05-24', 70.0),\n",
       " ('2017-05-23', 69.0),\n",
       " ('2017-05-22', 72.0),\n",
       " ('2017-05-21', 69.0),\n",
       " ('2017-05-20', 70.0),\n",
       " ('2017-05-18', 69.0),\n",
       " ('2017-05-17', 71.0),\n",
       " ('2017-05-16', 71.0),\n",
       " ('2017-05-15', 72.0),\n",
       " ('2017-05-14', 70.0),\n",
       " ('2017-05-13', 71.0),\n",
       " ('2017-05-12', 70.0),\n",
       " ('2017-05-11', 78.0),\n",
       " ('2017-05-10', 72.0),\n",
       " ('2017-05-09', 72.0),\n",
       " ('2017-05-08', 66.0),\n",
       " ('2017-05-07', 70.0),\n",
       " ('2017-05-06', 74.0),\n",
       " ('2017-05-05', 74.0),\n",
       " ('2017-05-04', 74.0),\n",
       " ('2017-05-02', 79.0),\n",
       " ('2017-05-01', 73.0),\n",
       " ('2017-04-30', 58.0),\n",
       " ('2017-04-29', 68.0),\n",
       " ('2017-04-28', 71.0),\n",
       " ('2017-04-27', 76.0),\n",
       " ('2017-04-26', 77.0),\n",
       " ('2017-04-25', 74.0),\n",
       " ('2017-04-24', 75.0),\n",
       " ('2017-04-23', 70.0),\n",
       " ('2017-04-22', 73.0),\n",
       " ('2017-04-21', 70.0),\n",
       " ('2017-04-20', 69.0),\n",
       " ('2017-04-19', 71.0),\n",
       " ('2017-04-18', 71.0),\n",
       " ('2017-04-17', 69.0),\n",
       " ('2017-04-16', 71.0),\n",
       " ('2017-04-15', 70.0),\n",
       " ('2017-04-14', 72.0),\n",
       " ('2017-04-13', 73.0),\n",
       " ('2017-04-12', 70.0),\n",
       " ('2017-04-11', 71.0),\n",
       " ('2017-04-10', 72.0),\n",
       " ('2017-04-09', 70.0),\n",
       " ('2017-04-08', 76.0),\n",
       " ('2017-04-06', 72.0),\n",
       " ('2017-04-05', 69.0),\n",
       " ('2017-04-04', 75.0),\n",
       " ('2017-04-03', 73.0),\n",
       " ('2017-04-02', 71.0),\n",
       " ('2017-04-01', 69.0),\n",
       " ('2017-03-31', 76.0),\n",
       " ('2017-03-29', 69.0),\n",
       " ('2017-03-28', 69.0),\n",
       " ('2017-03-27', 74.0),\n",
       " ('2017-03-26', 72.0),\n",
       " ('2017-03-25', 72.0),\n",
       " ('2017-03-24', 70.0),\n",
       " ('2017-03-23', 70.0),\n",
       " ('2017-03-22', 72.0),\n",
       " ('2017-03-21', 72.0),\n",
       " ('2017-03-20', 74.0),\n",
       " ('2017-03-19', 74.0),\n",
       " ('2017-03-18', 70.0),\n",
       " ('2017-03-16', 77.0),\n",
       " ('2017-03-15', 76.0),\n",
       " ('2017-03-14', 75.0),\n",
       " ('2017-03-13', 69.0),\n",
       " ('2017-03-11', 82.0),\n",
       " ('2017-03-10', 65.0),\n",
       " ('2017-03-09', 72.0),\n",
       " ('2017-03-08', 68.0),\n",
       " ('2017-03-07', 72.0),\n",
       " ('2017-03-06', 76.0),\n",
       " ('2017-03-05', 68.0),\n",
       " ('2017-03-04', 70.0),\n",
       " ('2017-03-03', 78.0),\n",
       " ('2017-03-02', 72.0),\n",
       " ('2017-03-01', 64.0),\n",
       " ('2017-02-28', 69.0),\n",
       " ('2017-02-27', 69.0),\n",
       " ('2017-02-26', 64.0),\n",
       " ('2017-02-25', 66.0),\n",
       " ('2017-02-24', 68.0),\n",
       " ('2017-02-23', 72.0),\n",
       " ('2017-02-22', 69.0),\n",
       " ('2017-02-21', 65.0),\n",
       " ('2017-02-20', 69.0),\n",
       " ('2017-02-19', 68.0),\n",
       " ('2017-02-18', 72.0),\n",
       " ('2017-02-16', 72.0),\n",
       " ('2017-02-15', 71.0),\n",
       " ('2017-02-14', 79.0),\n",
       " ('2017-02-13', 68.0),\n",
       " ('2017-02-12', 65.0),\n",
       " ('2017-02-11', 66.0),\n",
       " ('2017-02-10', 70.0),\n",
       " ('2017-02-09', 64.0),\n",
       " ('2017-02-08', 68.0),\n",
       " ('2017-02-07', 68.0),\n",
       " ('2017-02-06', 73.0),\n",
       " ('2017-02-05', 69.0),\n",
       " ('2017-02-04', 66.0),\n",
       " ('2017-02-02', 60.0),\n",
       " ('2017-02-01', 65.0),\n",
       " ('2017-01-31', 65.0),\n",
       " ('2017-01-30', 66.0),\n",
       " ('2017-01-29', 67.0),\n",
       " ('2017-01-28', 64.0),\n",
       " ('2017-01-27', 69.0),\n",
       " ('2017-01-26', 67.0),\n",
       " ('2017-01-25', 69.0),\n",
       " ('2017-01-24', 67.0),\n",
       " ('2017-01-23', 70.0),\n",
       " ('2017-01-22', 68.0),\n",
       " ('2017-01-21', 67.0),\n",
       " ('2017-01-20', 67.0),\n",
       " ('2017-01-19', 71.0),\n",
       " ('2017-01-18', 73.0),\n",
       " ('2017-01-17', 69.0),\n",
       " ('2017-01-16', 68.0),\n",
       " ('2017-01-15', 68.0),\n",
       " ('2017-01-14', 70.0),\n",
       " ('2017-01-13', 67.0),\n",
       " ('2017-01-12', 68.0),\n",
       " ('2017-01-11', 66.0),\n",
       " ('2017-01-10', 64.0),\n",
       " ('2017-01-09', 69.0),\n",
       " ('2017-01-08', 66.0),\n",
       " ('2017-01-07', 70.0),\n",
       " ('2017-01-06', 65.0),\n",
       " ('2017-01-05', 71.0),\n",
       " ('2017-01-04', 70.0),\n",
       " ('2017-01-03', 71.0),\n",
       " ('2017-01-02', 70.0),\n",
       " ('2017-01-01', 68.0),\n",
       " ('2016-12-31', 65.0),\n",
       " ('2016-12-30', 65.0),\n",
       " ('2016-12-29', 69.0),\n",
       " ('2016-12-28', 71.0),\n",
       " ('2016-12-27', 71.0),\n",
       " ('2016-12-26', 71.0),\n",
       " ('2016-12-25', 69.0),\n",
       " ('2016-12-24', 69.0),\n",
       " ('2016-12-23', 69.0),\n",
       " ('2016-12-22', 68.0),\n",
       " ('2016-12-21', 70.0),\n",
       " ('2016-12-20', 73.0),\n",
       " ('2016-12-19', 72.0),\n",
       " ('2016-12-18', 67.0),\n",
       " ('2016-12-16', 60.0),\n",
       " ('2016-12-15', 64.0),\n",
       " ('2016-12-14', 69.0),\n",
       " ('2016-12-13', 70.0),\n",
       " ('2016-12-12', 65.0),\n",
       " ('2016-12-11', 69.0),\n",
       " ('2016-12-10', 68.0),\n",
       " ('2016-12-09', 68.0),\n",
       " ('2016-12-08', 71.0),\n",
       " ('2016-12-07', 68.0),\n",
       " ('2016-12-06', 67.0),\n",
       " ('2016-12-05', 67.0),\n",
       " ('2016-12-04', 76.0),\n",
       " ('2016-12-03', 67.0),\n",
       " ('2016-12-02', 71.0),\n",
       " ('2016-12-01', 71.0),\n",
       " ('2016-11-30', 72.0),\n",
       " ('2016-11-29', 67.0),\n",
       " ('2016-11-28', 71.0),\n",
       " ('2016-11-27', 69.0),\n",
       " ('2016-11-26', 70.0),\n",
       " ('2016-11-25', 69.0),\n",
       " ('2016-11-24', 69.0),\n",
       " ('2016-11-23', 69.0),\n",
       " ('2016-11-22', 73.0),\n",
       " ('2016-11-21', 71.0),\n",
       " ('2016-11-20', 74.0),\n",
       " ('2016-11-17', 75.0),\n",
       " ('2016-11-16', 72.0),\n",
       " ('2016-11-15', 72.0),\n",
       " ('2016-11-14', 74.0),\n",
       " ('2016-11-13', 72.0),\n",
       " ('2016-11-12', 73.0),\n",
       " ('2016-11-11', 67.0),\n",
       " ('2016-11-10', 71.0),\n",
       " ('2016-11-09', 71.0),\n",
       " ('2016-11-08', 71.0),\n",
       " ('2016-11-07', 71.0),\n",
       " ('2016-11-06', 77.0),\n",
       " ('2016-11-05', 69.0),\n",
       " ('2016-11-04', 74.0),\n",
       " ('2016-11-03', 74.0),\n",
       " ('2016-11-02', 76.0),\n",
       " ('2016-11-01', 73.0),\n",
       " ('2016-10-31', 69.0),\n",
       " ('2016-10-30', 76.0),\n",
       " ('2016-10-29', 71.0),\n",
       " ('2016-10-28', 68.0),\n",
       " ('2016-10-27', 71.0),\n",
       " ('2016-10-26', 75.0),\n",
       " ('2016-10-25', 74.0),\n",
       " ('2016-10-24', 71.0),\n",
       " ('2016-10-23', 72.0),\n",
       " ('2016-10-22', 75.0),\n",
       " ('2016-10-21', 74.0),\n",
       " ('2016-10-20', 73.0),\n",
       " ('2016-10-19', 70.0),\n",
       " ('2016-10-18', 74.0),\n",
       " ('2016-10-17', 70.0),\n",
       " ('2016-10-16', 77.0),\n",
       " ('2016-10-15', 74.0),\n",
       " ('2016-10-14', 73.0),\n",
       " ('2016-10-13', 75.0),\n",
       " ('2016-10-12', 78.0),\n",
       " ('2016-10-11', 74.0),\n",
       " ('2016-10-10', 74.0),\n",
       " ('2016-10-09', 77.0),\n",
       " ('2016-10-08', 74.0),\n",
       " ('2016-10-07', 73.0),\n",
       " ('2016-10-06', 75.0),\n",
       " ('2016-10-05', 75.0),\n",
       " ('2016-10-04', 74.0),\n",
       " ('2016-10-03', 76.0),\n",
       " ('2016-10-02', 73.0),\n",
       " ('2016-10-01', 74.0),\n",
       " ('2016-09-30', 73.0),\n",
       " ('2016-09-29', 77.0),\n",
       " ('2016-09-28', 77.0),\n",
       " ('2016-09-27', 74.0),\n",
       " ('2016-09-26', 74.0),\n",
       " ('2016-09-25', 76.0),\n",
       " ('2016-09-24', 77.0),\n",
       " ('2016-09-23', 73.0),\n",
       " ('2016-09-22', 73.0),\n",
       " ('2016-09-21', 73.0),\n",
       " ('2016-09-20', 70.0),\n",
       " ('2016-09-19', 70.0),\n",
       " ('2016-09-18', 75.0),\n",
       " ('2016-09-17', 76.0),\n",
       " ('2016-09-16', 73.0),\n",
       " ('2016-09-15', 73.0),\n",
       " ('2016-09-14', 73.0),\n",
       " ('2016-09-13', 75.0),\n",
       " ('2016-09-12', 72.0),\n",
       " ('2016-09-11', 71.0),\n",
       " ('2016-09-10', 75.0),\n",
       " ('2016-09-09', 75.0),\n",
       " ('2016-09-08', 74.0),\n",
       " ('2016-09-07', 74.0),\n",
       " ('2016-09-06', 73.0),\n",
       " ('2016-09-05', 76.0),\n",
       " ('2016-09-04', 73.0),\n",
       " ('2016-09-03', 75.0),\n",
       " ('2016-09-02', 75.0),\n",
       " ('2016-09-01', 77.0),\n",
       " ('2016-08-31', 76.0),\n",
       " ('2016-08-30', 75.0),\n",
       " ('2016-08-29', 78.0),\n",
       " ('2016-08-28', 71.0),\n",
       " ('2016-08-27', 74.0),\n",
       " ('2016-08-25', 77.0),\n",
       " ('2016-08-24', 74.0)]"
      ]
     },
     "execution_count": 45,
     "metadata": {},
     "output_type": "execute_result"
    }
   ],
   "source": [
    "# Using the most active station id\n",
    "# Query the last 12 months of temperature observation data for this station and plot the results as a histogram\n",
    "results = session.query(Measurement.date, Measurement.tobs).filter(Measurement.station == 'USC00516128').\\\n",
    "            filter(Measurement.date > '2016-08-23').order_by(Measurement.date.desc()).\\\n",
    "            filter(Measurement.tobs != 'None').all()\n",
    "results"
   ]
  },
  {
   "cell_type": "code",
   "execution_count": 46,
   "metadata": {},
   "outputs": [],
   "source": [
    "active_df = pd.DataFrame(results, columns = ['date', 'tobs'])"
   ]
  },
  {
   "cell_type": "code",
   "execution_count": 55,
   "metadata": {},
   "outputs": [
    {
     "data": {
      "image/png": "[encoded data removed]",
      "text/plain": [
       "<Figure size 432x288 with 1 Axes>"
      ]
     },
     "metadata": {},
     "output_type": "display_data"
    }
   ],
   "source": [
    "import matplotlib.pyplot as plt\n",
    "\n",
    "x_data = active_df['date']\n",
    "y_data = active_df['tobs']\n",
    "\n",
    "fig, ax = plt.subplots(1,1)\n",
    "\n",
    "# the following gets:  ValueError: `bins` must increase monotonically, when an array\n",
    "# ax.hist(x_data, bins=['2016-08-01','2016-09-01','2016-10-01',\n",
    "#                          '2016-11-01','2016-12-01','2017-01-01', \n",
    "#                          '2017-02-01','2017-03-01','2017-04-01',\n",
    "#                          '2017-05-01','2017-06-01','2017-07-01',\n",
    "#                          '2017-08-01','2017-09-01'])\n",
    "ax.hist(x_data, bins=12, density=True)\n",
    "#ax[1].hist(y_data, bin)\n",
    "ax.set_title('Station USC00516128 \\n2016-08-23 to 2017-08-23')\n",
    "#ax.set_xticks(['2016-08-01','2016-11-01','2017-02-01','2017-05-01','2017-08-01'])\n",
    "ax.plot(x_data, y_data, color='blue', alpha=0.5)\n",
    "ax.set_xlabel('dates')\n",
    "ax.set_ylabel('temperature observation data')\n",
    "fig.tight_layout()\n",
    "plt.ylim([55,85])\n",
    "plt.show()"
   ]
  },
  {
   "cell_type": "markdown",
   "metadata": {},
   "source": [
    "# Close session"
   ]
  },
  {
   "cell_type": "code",
   "execution_count": null,
   "metadata": {},
   "outputs": [],
   "source": []
  },
  {
   "cell_type": "code",
   "execution_count": 56,
   "metadata": {},
   "outputs": [],
   "source": [
    "# Close Session\n",
    "session.close()"
   ]
  },
  {
   "cell_type": "code",
   "execution_count": null,
   "metadata": {},
   "outputs": [],
   "source": []
  }
 ],
 "metadata": {
  "anaconda-cloud": {},
  "kernel_info": {
   "name": "python3"
  },
  "kernelspec": {
   "display_name": "Python 3",
   "language": "python",
   "name": "python3"
  },
  "language_info": {
   "codemirror_mode": {
    "name": "ipython",
    "version": 3
   },
   "file_extension": ".py",
   "mimetype": "text/x-python",
   "name": "python",
   "nbconvert_exporter": "python",
   "pygments_lexer": "ipython3",
   "version": "3.6.10"
  },
  "nteract": {
   "version": "0.12.3"
  },
  "varInspector": {
   "cols": {
    "lenName": 16,
    "lenType": 16,
    "lenVar": 40
   },
   "kernels_config": {
    "python": {
     "delete_cmd_postfix": "",
     "delete_cmd_prefix": "del ",
     "library": "var_list.py",
     "varRefreshCmd": "print(var_dic_list())"
    },
    "r": {
     "delete_cmd_postfix": ") ",
     "delete_cmd_prefix": "rm(",
     "library": "var_list.r",
     "varRefreshCmd": "cat(var_dic_list()) "
    }
   },
   "types_to_exclude": [
    "module",
    "function",
    "builtin_function_or_method",
    "instance",
    "_Feature"
   ],
   "window_display": false
  }
 },
 "nbformat": 4,
 "nbformat_minor": 2
}
