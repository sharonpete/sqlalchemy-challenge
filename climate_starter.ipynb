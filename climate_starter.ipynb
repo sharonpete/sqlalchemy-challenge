{
 "cells": [
  {
   "cell_type": "code",
   "execution_count": null,
   "metadata": {},
   "outputs": [],
   "source": [
    "%matplotlib inline\n",
    "from matplotlib import style\n",
    "style.use('fivethirtyeight')\n",
    "import matplotlib.pyplot as plt"
   ]
  },
  {
   "cell_type": "code",
   "execution_count": null,
   "metadata": {},
   "outputs": [],
   "source": [
    "import numpy as np\n",
    "import pandas as pd\n",
    "import datetime as dt"
   ]
  },
  {
   "cell_type": "code",
   "execution_count": null,
   "metadata": {},
   "outputs": [],
   "source": [
    "# Python SQL toolkit and Object Relational Mapper\n",
    "import sqlalchemy\n",
    "from sqlalchemy.ext.automap import automap_base\n",
    "from sqlalchemy.orm import Session\n",
    "from sqlalchemy import create_engine, func, inspect"
   ]
  },
  {
   "cell_type": "code",
   "execution_count": null,
   "metadata": {},
   "outputs": [],
   "source": [
    "# create engine to hawaii.sqlite\n",
    "engine = create_engine(\"sqlite:///Resources/hawaii.sqlite\")"
   ]
  },
  {
   "cell_type": "code",
   "execution_count": null,
   "metadata": {},
   "outputs": [],
   "source": [
    "# reflect an existing database into a new model\n",
    "Base = automap_base()\n",
    "\n",
    "# reflect the tables\n",
    "Base.prepare(engine, reflect=True)"
   ]
  },
  {
   "cell_type": "code",
   "execution_count": null,
   "metadata": {},
   "outputs": [],
   "source": [
    "# View all of the classes that automap found\n",
    "Base.classes.keys()"
   ]
  },
  {
   "cell_type": "code",
   "execution_count": null,
   "metadata": {},
   "outputs": [],
   "source": [
    "# Save references to each table\n",
    "station = Base.classes.station\n",
    "measurement = Base.classes.measurement"
   ]
  },
  {
   "cell_type": "code",
   "execution_count": null,
   "metadata": {},
   "outputs": [],
   "source": [
    "# Create our session (link) from Python to the DB\n",
    "session = Session(engine)"
   ]
  },
  {
   "cell_type": "code",
   "execution_count": null,
   "metadata": {},
   "outputs": [],
   "source": [
    "# examine the data, see a sample row\n",
    "first_row_station = session.query(station).first()\n",
    "first_row_station.__dict__"
   ]
  },
  {
   "cell_type": "code",
   "execution_count": null,
   "metadata": {},
   "outputs": [],
   "source": [
    "# create inspector object and find the table names\n",
    "inspector = inspect(engine)\n",
    "inspector.get_table_names()"
   ]
  },
  {
   "cell_type": "code",
   "execution_count": null,
   "metadata": {},
   "outputs": [],
   "source": [
    "# Print column names and types for the measurement table\n",
    "meas_columns = inspector.get_columns('measurement')\n",
    "for column in meas_columns:\n",
    "    print(column['name'], column['type'])"
   ]
  },
  {
   "cell_type": "markdown",
   "metadata": {},
   "source": [
    "## Exploratory Precipitation Analysis"
   ]
  },
  {
   "cell_type": "code",
   "execution_count": null,
   "metadata": {},
   "outputs": [],
   "source": [
    "# Find the most recent date in the data set, convert string format to date.\n",
    "most_recent_date = session.query(measurement.date).order_by(measurement.date.desc()).first()[0]\n",
    "most_recent_date = (dt.datetime.strptime(most_recent_date, '%Y-%m-%d')).date()\n",
    "most_recent_date"
   ]
  },
  {
   "cell_type": "code",
   "execution_count": null,
   "metadata": {},
   "outputs": [],
   "source": [
    "# Calculate the date one year prior to the most recent date in dataset\n",
    "analysis_start_date = most_recent_date - dt.timedelta(days=365)\n",
    "analysis_start_date"
   ]
  },
  {
   "cell_type": "code",
   "execution_count": null,
   "metadata": {},
   "outputs": [],
   "source": [
    "# Perform a query to retrieve the data and precipitation scores\n",
    "prcp_data = session.query(measurement.date, measurement.prcp).\\\n",
    "    filter((measurement.date <= most_recent_date) & (measurement.date >= analysis_start_date)).all()\n",
    "print(prcp_data[0])\n",
    "print(prcp_data[0].date)\n",
    "print(prcp_data[0].prcp)\n"
   ]
  },
  {
   "cell_type": "code",
   "execution_count": null,
   "metadata": {},
   "outputs": [],
   "source": [
    "# Save the query results as a Pandas DataFrame and set the index to the date column\n",
    "meas_df = pd.DataFrame(prcp_data)\n",
    "meas_df = meas_df.set_index('date')\n",
    "meas_df.head()"
   ]
  },
  {
   "cell_type": "code",
   "execution_count": null,
   "metadata": {},
   "outputs": [],
   "source": [
    "# Sort the DataFram by date and drop rows containing NaN values\n",
    "meas_df = meas_df.sort_index()\n",
    "meas_df.dropna(axis=0, how='any', thresh=None, subset=None, inplace=True)"
   ]
  },
  {
   "cell_type": "code",
   "execution_count": null,
   "metadata": {},
   "outputs": [],
   "source": [
    "# Rename column for cleaner DataFrame and for plot legend\n",
    "meas_df = meas_df.rename(columns = {'prcp': 'Precipitation'})\n",
    "meas_df.head()"
   ]
  },
  {
   "cell_type": "code",
   "execution_count": null,
   "metadata": {},
   "outputs": [],
   "source": [
    "# Use Pandas Plotting with Matplotlib to plot the data\n",
    "panda_plot = meas_df.plot(figsize = (18,10), color=\"blue\", alpha=1, legend=True, rot=45)\n",
    "\n",
    "panda_plot.set_title(f'Daily Precipitation {most_recent_date} - {analysis_start_date}', fontsize=18)\n",
    "panda_plot.set_xlabel('Date', fontsize=14)\n",
    "panda_plot.set_ylabel('Precipitation in inches', fontsize=14)\n",
    "\n",
    "# Save plot to image file\n",
    "plt.savefig('Images/Daily_Precipitation_panda_plot.jpg')\n",
    "\n",
    "# Display plot\n",
    "plt.show()"
   ]
  },
  {
   "cell_type": "code",
   "execution_count": null,
   "metadata": {},
   "outputs": [],
   "source": [
    "# Use Pandas to calculate the summary statistics for the precipitation data\n",
    "meas_df.describe()\n"
   ]
  },
  {
   "cell_type": "markdown",
   "metadata": {},
   "source": [
    "## Exploratory Station Analysis"
   ]
  },
  {
   "cell_type": "code",
   "execution_count": null,
   "metadata": {},
   "outputs": [],
   "source": [
    "# Print column names and types for the station table\n",
    "sta_columns = inspector.get_columns('station')\n",
    "for column in sta_columns:\n",
    "    print(column['name'], column['type'])"
   ]
  },
  {
   "cell_type": "code",
   "execution_count": null,
   "metadata": {},
   "outputs": [],
   "source": [
    "# Design a query to calculate the total number stations in the dataset\n",
    "total_stations = session.query(station).count()\n",
    "\n",
    "print(f'The total number of stations is: {total_stations}')"
   ]
  },
  {
   "cell_type": "code",
   "execution_count": null,
   "metadata": {},
   "outputs": [],
   "source": [
    "# Design a query to find the most active stations (i.e. what stations have the most rows?)\n",
    "most_active = session.query(measurement.station, func.count(measurement.station), station.name, station.id).\\\n",
    "    order_by(func.count(measurement.station).desc()).\\\n",
    "    group_by(measurement.station).all()\n",
    "\n",
    "# List the stations and the counts in descending order.\n",
    "most_active"
   ]
  },
  {
   "cell_type": "code",
   "execution_count": null,
   "metadata": {},
   "outputs": [],
   "source": [
    "# Declare variables to store extracted tuples from list\n",
    "most_active_station = most_active[0]\n",
    "print(f'The most active station is {most_active_station[0]} with a measurement count of {most_active_station[1]}')"
   ]
  },
  {
   "cell_type": "code",
   "execution_count": null,
   "metadata": {},
   "outputs": [],
   "source": [
    "count_by_station = []   #gonna create a list of tuples\n",
    "for row in results:\n",
    "    #print(row[1])\n",
    "    measurements = session.query(Measurement.station, func.count(distinct(Measurement.prcp))).filter(Measurement.station == row[1]).all()\n",
    "    print(measurements)\n",
    "    count_by_station.append(measurements[0])\n",
    " \n",
    "# count_by_station\n",
    "station_count_df = pd.DataFrame(count_by_station, columns = ['station', 'measurement_count'])\n",
    "station_count_sorted_df = station_count_df.sort_values('measurement_count', ascending=False)\n",
    "station_count_sorted_df"
   ]
  },
  {
   "cell_type": "code",
   "execution_count": null,
   "metadata": {},
   "outputs": [],
   "source": [
    "# Using the most active station id from the previous query, calculate the lowest, highest, and average temperature.\n",
    "# Lowest temperature for most active station is 'USC00516128'\n",
    "results = session.query(func.min(Measurement.tobs)).filter(Measurement.station == 'USC00516128').all()\n",
    "print(results[0][0])"
   ]
  },
  {
   "cell_type": "code",
   "execution_count": null,
   "metadata": {},
   "outputs": [],
   "source": [
    "# Highest temperature for most active station 'USC00516128'\n",
    "results = session.query(func.max(Measurement.tobs)).filter(Measurement.station == 'USC00516128').all()\n",
    "print(results[0][0])"
   ]
  },
  {
   "cell_type": "code",
   "execution_count": null,
   "metadata": {},
   "outputs": [],
   "source": [
    "# Average temperature from most active station 'USC00516128'\n",
    "results = session.query(func.avg(Measurement.tobs)).filter(Measurement.station == 'USC00516128').\\\n",
    "    filter(Measurement.tobs != 'None').all()\n",
    "print(results[0][0])\n",
    "print(round(results[0][0],6))\n",
    "\n"
   ]
  },
  {
   "cell_type": "code",
   "execution_count": null,
   "metadata": {},
   "outputs": [],
   "source": [
    "# Using the most active station id\n",
    "# Query the last 12 months of temperature observation data for this station and plot the results as a histogram\n",
    "results = session.query(Measurement.date, Measurement.tobs).filter(Measurement.station == 'USC00516128').\\\n",
    "            filter(Measurement.date > '2016-08-23').order_by(Measurement.date.desc()).\\\n",
    "            filter(Measurement.tobs != 'None').all()\n",
    "results"
   ]
  },
  {
   "cell_type": "code",
   "execution_count": null,
   "metadata": {},
   "outputs": [],
   "source": [
    "active_df = pd.DataFrame(results, columns = ['date', 'tobs'])\n",
    "#active_df = pd.DataFrame(results, columns = ['tobs'])\n",
    "active_df"
   ]
  },
  {
   "cell_type": "code",
   "execution_count": null,
   "metadata": {},
   "outputs": [],
   "source": [
    "import matplotlib.pyplot as plt\n",
    "\n",
    "x_data = active_df['date']\n",
    "y_data = active_df['tobs']\n",
    "\n",
    "fig, ax = plt.subplots(1,1)\n",
    "\n",
    "# the following gets:  ValueError: `bins` must increase monotonically, when an array\n",
    "# ax.hist(x_data, bins=['2016-08-01','2016-09-01','2016-10-01',\n",
    "#                          '2016-11-01','2016-12-01','2017-01-01', \n",
    "#                          '2017-02-01','2017-03-01','2017-04-01',\n",
    "#                          '2017-05-01','2017-06-01','2017-07-01',\n",
    "#                          '2017-08-01','2017-09-01'])\n",
    "ax.hist(x_data, bins=12, density=True)\n",
    "#ax[1].hist(y_data, bin)\n",
    "ax.set_title('Station USC00516128 \\n2016-08-23 to 2017-08-23')\n",
    "#ax.set_xticks(['2016-08-01','2016-11-01','2017-02-01','2017-05-01','2017-08-01'])\n",
    "ax.plot(x_data, y_data, color='blue', alpha=0.5)\n",
    "ax.set_xlabel('dates')\n",
    "ax.set_ylabel('temperature observation data')\n",
    "fig.tight_layout()\n",
    "plt.ylim([55,85])\n",
    "plt.show()"
   ]
  },
  {
   "cell_type": "markdown",
   "metadata": {},
   "source": [
    "# Close session"
   ]
  },
  {
   "cell_type": "code",
   "execution_count": null,
   "metadata": {},
   "outputs": [],
   "source": []
  },
  {
   "cell_type": "code",
   "execution_count": null,
   "metadata": {},
   "outputs": [],
   "source": [
    "# Close Session\n",
    "session.close()"
   ]
  },
  {
   "cell_type": "code",
   "execution_count": null,
   "metadata": {},
   "outputs": [],
   "source": []
  }
 ],
 "metadata": {
  "anaconda-cloud": {},
  "kernel_info": {
   "name": "python3"
  },
  "kernelspec": {
   "display_name": "Python 3",
   "language": "python",
   "name": "python3"
  },
  "language_info": {
   "codemirror_mode": {
    "name": "ipython",
    "version": 3
   },
   "file_extension": ".py",
   "mimetype": "text/x-python",
   "name": "python",
   "nbconvert_exporter": "python",
   "pygments_lexer": "ipython3",
   "version": "3.6.10"
  },
  "nteract": {
   "version": "0.12.3"
  },
  "varInspector": {
   "cols": {
    "lenName": 16,
    "lenType": 16,
    "lenVar": 40
   },
   "kernels_config": {
    "python": {
     "delete_cmd_postfix": "",
     "delete_cmd_prefix": "del ",
     "library": "var_list.py",
     "varRefreshCmd": "print(var_dic_list())"
    },
    "r": {
     "delete_cmd_postfix": ") ",
     "delete_cmd_prefix": "rm(",
     "library": "var_list.r",
     "varRefreshCmd": "cat(var_dic_list()) "
    }
   },
   "types_to_exclude": [
    "module",
    "function",
    "builtin_function_or_method",
    "instance",
    "_Feature"
   ],
   "window_display": false
  }
 },
 "nbformat": 4,
 "nbformat_minor": 2
}
