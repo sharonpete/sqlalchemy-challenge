{
 "cells": [
  {
   "cell_type": "markdown",
   "metadata": {},
   "source": [
    "# Bonus: Temperature Analysis I"
   ]
  },
  {
   "cell_type": "code",
   "execution_count": null,
   "metadata": {},
   "outputs": [],
   "source": [
    "import pandas as pd\n",
    "from datetime import datetime as dt"
   ]
  },
  {
   "cell_type": "code",
   "execution_count": null,
   "metadata": {},
   "outputs": [],
   "source": [
    "# \"tobs\" is \"temperature observations\"\n",
    "measurements_df = pd.read_csv('./Resources/hawaii_measurements.csv')\n",
    "measurements_df.head()"
   ]
  },
  {
   "cell_type": "code",
   "execution_count": null,
   "metadata": {},
   "outputs": [],
   "source": [
    "# Convert the date column format from string to datetime\n",
    "measurements_df['date'] = pd.to_datetime(measurements_df['date'])\n",
    "measurements_df.dtypes"
   ]
  },
  {
   "cell_type": "code",
   "execution_count": null,
   "metadata": {},
   "outputs": [],
   "source": [
    "# Set the date column as the DataFrame index\n",
    "measurements_df = measurements_df.set_index(measurements_df['date'])\n",
    "measurements_df.head()"
   ]
  },
  {
   "cell_type": "code",
   "execution_count": null,
   "metadata": {},
   "outputs": [],
   "source": [
    "# Drop the date column\n",
    "measurements_df = measurements_df.drop(columns='date')\n",
    "measurements_df.head()"
   ]
  },
  {
   "cell_type": "markdown",
   "metadata": {},
   "source": [
    "### Compare June and December data across all years "
   ]
  },
  {
   "cell_type": "code",
   "execution_count": null,
   "metadata": {},
   "outputs": [],
   "source": [
    "from scipy import stats as st\n"
   ]
  },
  {
   "cell_type": "code",
   "execution_count": null,
   "metadata": {},
   "outputs": [],
   "source": [
    "# Filter data for desired months\n",
    "june_df = measurements_df[measurements_df.index.month == 6]\n",
    "june_df.head()"
   ]
  },
  {
   "cell_type": "code",
   "execution_count": null,
   "metadata": {},
   "outputs": [],
   "source": [
    "december_df = measurements_df[measurements_df.index.month == 12]\n",
    "december_df.head()"
   ]
  },
  {
   "cell_type": "code",
   "execution_count": null,
   "metadata": {},
   "outputs": [],
   "source": [
    "# Identify the average temperature for June\n",
    "june_avg_temp = june_df['tobs'].mean()\n",
    "print(f'Average Temperature in June in Hawaii is {june_avg_temp:.2f}°F.')"
   ]
  },
  {
   "cell_type": "code",
   "execution_count": null,
   "metadata": {},
   "outputs": [],
   "source": [
    "# Identify the average temperature for December\n",
    "dec_avg_temp = december_df['tobs'].mean()\n",
    "print(f'Average Temperature in December in Hawaii is {dec_avg_temp:.2f}°F.')"
   ]
  },
  {
   "cell_type": "code",
   "execution_count": null,
   "metadata": {},
   "outputs": [],
   "source": [
    "# Create collections of temperature data\n",
    "# Run paired t-test\n",
    "p_value = st.ttest_ind(june_df['tobs'], december_df['tobs'])\n",
    "\n",
    "p_value"
   ]
  },
  {
   "cell_type": "code",
   "execution_count": null,
   "metadata": {},
   "outputs": [],
   "source": [
    "print(f'The p-value for is {dec_avg_temp:.2f}°F.')"
   ]
  },
  {
   "cell_type": "code",
   "execution_count": null,
   "metadata": {},
   "outputs": [],
   "source": []
  },
  {
   "cell_type": "markdown",
   "metadata": {},
   "source": [
    "### Analysis"
   ]
  },
  {
   "cell_type": "markdown",
   "metadata": {},
   "source": [
    "Hawaii lies near to the equator and certainly Hawaiian weather would see far fewer weather extremes than say, Minnesota \n",
    "where extreme cold commonly gets below -20 and peak summer temperatures are in the 90s and sometimes top 100.  That \n",
    "perspective stated, the question is asked is there a meaningful difference between temperatures in the summer months versus the winter months?\n",
    "- Null hypothesis:  \"There is no difference between December and June temperature averages.\"\n"
   ]
  },
  {
   "cell_type": "markdown",
   "metadata": {},
   "source": [
    "This analysis uses an unpaired t-test (independent samples t-test) to analyze December and June temperatures.  The unpaired \n",
    "t-test is based on the concept that if two samples are taken from two populations with different mean values, it is likely\n",
    "that the means of the two samples will also differ.\n",
    "\n",
    "The p-value is the evidence against the null hypothesis.  The smaller the p-value, the stronger the evidence in favor of \n",
    "rejecting the null hypothesis.  The p-value in this analysis is extremely smaller than 0.05, noting the end of the p-value \n",
    "at '...e-191'  As this is the case, the null hypothesis is rejected.  Statistically speaking, the difference between the \n",
    "average temperature in December versus June is significant.  \n",
    "\n",
    "Coming from Minnesota, the average temperature for either month still sound lovely."
   ]
  },
  {
   "cell_type": "code",
   "execution_count": null,
   "metadata": {},
   "outputs": [],
   "source": []
  }
 ],
 "metadata": {
  "kernelspec": {
   "display_name": "Python 3",
   "language": "python",
   "name": "python3"
  },
  "language_info": {
   "codemirror_mode": {
    "name": "ipython",
    "version": 3
   },
   "file_extension": ".py",
   "mimetype": "text/x-python",
   "name": "python",
   "nbconvert_exporter": "python",
   "pygments_lexer": "ipython3",
   "version": "3.6.10"
  }
 },
 "nbformat": 4,
 "nbformat_minor": 4
}
